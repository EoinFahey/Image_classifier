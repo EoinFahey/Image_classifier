{
  "nbformat": 4,
  "nbformat_minor": 0,
  "metadata": {
    "colab": {
      "provenance": []
    },
    "kernelspec": {
      "name": "python3",
      "display_name": "Python 3"
    }
  },
  "cells": [
    {
      "cell_type": "markdown",
      "metadata": {
        "id": "3DR-eO17geWu"
      },
      "source": [
        "# Convolutional Neural Network"
      ]
    },
    {
      "cell_type": "markdown",
      "metadata": {
        "id": "EMefrVPCg-60"
      },
      "source": [
        "### Import libraries\n",
        "\n"
      ]
    },
    {
      "cell_type": "code",
      "source": [
        "import tensorflow as tf\n",
        "from keras.preprocessing.image import ImageDataGenerator\n",
        "import numpy as np\n",
        "from PIL import Image\n",
        "from keras.preprocessing import image"
      ],
      "metadata": {
        "id": "xD62pZ5CKHuJ"
      },
      "execution_count": 27,
      "outputs": []
    },
    {
      "cell_type": "code",
      "source": [
        "tf.__version__"
      ],
      "metadata": {
        "colab": {
          "base_uri": "https://localhost:8080/",
          "height": 35
        },
        "id": "LULnUf82KRWv",
        "outputId": "3aad7516-dca4-4be7-c3aa-ce4e1791d1f2"
      },
      "execution_count": 2,
      "outputs": [
        {
          "output_type": "execute_result",
          "data": {
            "text/plain": [
              "'2.12.0'"
            ],
            "application/vnd.google.colaboratory.intrinsic+json": {
              "type": "string"
            }
          },
          "metadata": {},
          "execution_count": 2
        }
      ]
    },
    {
      "cell_type": "markdown",
      "source": [
        "### Link data"
      ],
      "metadata": {
        "id": "L0CQ917JbgfJ"
      }
    },
    {
      "cell_type": "code",
      "source": [
        "from google.colab import drive\n",
        "drive.mount('/content/drive')"
      ],
      "metadata": {
        "colab": {
          "base_uri": "https://localhost:8080/"
        },
        "id": "vSxv9whebpYK",
        "outputId": "4dcf392e-87fb-4985-9008-beb7c1ad23d2"
      },
      "execution_count": 3,
      "outputs": [
        {
          "output_type": "stream",
          "name": "stdout",
          "text": [
            "Mounted at /content/drive\n"
          ]
        }
      ]
    },
    {
      "cell_type": "markdown",
      "metadata": {
        "id": "oxQxCBWyoGPE"
      },
      "source": [
        "## Part 1 - Data Preprocessing"
      ]
    },
    {
      "cell_type": "markdown",
      "metadata": {
        "id": "MvE-heJNo3GG"
      },
      "source": [
        "### Preprocess training set"
      ]
    },
    {
      "cell_type": "code",
      "source": [
        "train_datagen = ImageDataGenerator(\n",
        "    rescale=1./255,\n",
        "    shear_range=0.2,\n",
        "    zoom_range = 0.2,\n",
        "    horizontal_flip = True)\n",
        "training_set = train_datagen.flow_from_directory(\n",
        "    '/content/drive/MyDrive/training_set',\n",
        "    target_size = (64, 64),\n",
        "    batch_size = 32,\n",
        "    class_mode = 'binary')"
      ],
      "metadata": {
        "colab": {
          "base_uri": "https://localhost:8080/"
        },
        "id": "xw6LxMBpKXj9",
        "outputId": "2614e00b-e4c0-485b-a06a-ba1bc5064c60"
      },
      "execution_count": 4,
      "outputs": [
        {
          "output_type": "stream",
          "name": "stdout",
          "text": [
            "Found 8000 images belonging to 2 classes.\n"
          ]
        }
      ]
    },
    {
      "cell_type": "markdown",
      "metadata": {
        "id": "mrCMmGw9pHys"
      },
      "source": [
        "### Preprocess test set"
      ]
    },
    {
      "cell_type": "code",
      "source": [
        "test_datagen = ImageDataGenerator(rescale = 1./255)\n",
        "test_set = test_datagen.flow_from_directory(\n",
        "    '/content/drive/MyDrive/test_set',\n",
        "    target_size = (64, 64),\n",
        "    batch_size = 32,\n",
        "    class_mode = 'binary')"
      ],
      "metadata": {
        "colab": {
          "base_uri": "https://localhost:8080/"
        },
        "id": "IqS1x21LcdV4",
        "outputId": "35fa7879-c792-4307-ec0a-e00a53813da8"
      },
      "execution_count": 5,
      "outputs": [
        {
          "output_type": "stream",
          "name": "stdout",
          "text": [
            "Found 2000 images belonging to 2 classes.\n"
          ]
        }
      ]
    },
    {
      "cell_type": "markdown",
      "metadata": {
        "id": "af8O4l90gk7B"
      },
      "source": [
        "## Part 2 - Build CNN"
      ]
    },
    {
      "cell_type": "markdown",
      "metadata": {
        "id": "ces1gXY2lmoX"
      },
      "source": [
        "### Initialise CNN"
      ]
    },
    {
      "cell_type": "code",
      "source": [
        "cnn = tf.keras.models.Sequential()"
      ],
      "metadata": {
        "id": "i_7Scnu1dvb7"
      },
      "execution_count": 6,
      "outputs": []
    },
    {
      "cell_type": "markdown",
      "metadata": {
        "id": "u5YJj_XMl5LF"
      },
      "source": [
        "### Step 1 - Convolution"
      ]
    },
    {
      "cell_type": "code",
      "source": [
        "cnn.add(tf.keras.layers.Conv2D(filters = 32, kernel_size = 3, activation = 'relu', input_shape = [64, 64, 3]))"
      ],
      "metadata": {
        "id": "5x8tj_-kd41R"
      },
      "execution_count": 7,
      "outputs": []
    },
    {
      "cell_type": "markdown",
      "metadata": {
        "id": "tf87FpvxmNOJ"
      },
      "source": [
        "### Step 2 - Pooling"
      ]
    },
    {
      "cell_type": "code",
      "source": [
        "cnn.add(tf.keras.layers.MaxPool2D(pool_size = 2, strides = 2))"
      ],
      "metadata": {
        "id": "ouPT2Crce0bG"
      },
      "execution_count": 8,
      "outputs": []
    },
    {
      "cell_type": "markdown",
      "metadata": {
        "id": "xaTOgD8rm4mU"
      },
      "source": [
        "### Add second convolutional layer"
      ]
    },
    {
      "cell_type": "code",
      "source": [
        "cnn.add(tf.keras.layers.Conv2D(filters = 32, kernel_size = 3, activation = 'relu'))\n",
        "cnn.add(tf.keras.layers.MaxPool2D(pool_size = 2, strides = 2))"
      ],
      "metadata": {
        "id": "z4xHIiIofYlB"
      },
      "execution_count": 9,
      "outputs": []
    },
    {
      "cell_type": "markdown",
      "metadata": {
        "id": "tmiEuvTunKfk"
      },
      "source": [
        "### Step 3 - Flattening"
      ]
    },
    {
      "cell_type": "code",
      "source": [
        "cnn.add(tf.keras.layers.Flatten())"
      ],
      "metadata": {
        "id": "jfg1P-H2fu07"
      },
      "execution_count": 10,
      "outputs": []
    },
    {
      "cell_type": "markdown",
      "metadata": {
        "id": "dAoSECOm203v"
      },
      "source": [
        "### Step 4 - Full Connection"
      ]
    },
    {
      "cell_type": "code",
      "source": [
        "cnn.add(tf.keras.layers.Dense(units = 128, activation = 'relu'))"
      ],
      "metadata": {
        "id": "tR7gyAEmgjkK"
      },
      "execution_count": 11,
      "outputs": []
    },
    {
      "cell_type": "markdown",
      "metadata": {
        "id": "yTldFvbX28Na"
      },
      "source": [
        "### Step 5 - Output Layer"
      ]
    },
    {
      "cell_type": "code",
      "source": [
        "cnn.add(tf.keras.layers.Dense(units = 1, activation = 'sigmoid'))"
      ],
      "metadata": {
        "id": "mBlEV_b7hF0T"
      },
      "execution_count": 12,
      "outputs": []
    },
    {
      "cell_type": "markdown",
      "metadata": {
        "id": "D6XkI90snSDl"
      },
      "source": [
        "## Part 3 - Train CNN"
      ]
    },
    {
      "cell_type": "markdown",
      "metadata": {
        "id": "vfrFQACEnc6i"
      },
      "source": [
        "### Compile CNN"
      ]
    },
    {
      "cell_type": "code",
      "source": [
        "cnn.compile(optimizer = 'adam', loss = 'binary_crossentropy', metrics = ['accuracy'])"
      ],
      "metadata": {
        "id": "TQFB7qEi45RK"
      },
      "execution_count": 14,
      "outputs": []
    },
    {
      "cell_type": "markdown",
      "metadata": {
        "id": "ehS-v3MIpX2h"
      },
      "source": [
        "### Train CNN on training set and evaluate test set"
      ]
    },
    {
      "cell_type": "code",
      "source": [
        "cnn.fit(x = training_set, validation_data = test_set, epochs = 25)"
      ],
      "metadata": {
        "colab": {
          "base_uri": "https://localhost:8080/"
        },
        "id": "Ny9pUqxe5JsV",
        "outputId": "7699716a-e3fc-4607-d2f4-621388bed52d"
      },
      "execution_count": 16,
      "outputs": [
        {
          "output_type": "stream",
          "name": "stdout",
          "text": [
            "Epoch 1/25\n",
            "250/250 [==============================] - 3339s 13s/step - loss: 0.6874 - accuracy: 0.5476 - val_loss: 0.6659 - val_accuracy: 0.5930\n",
            "Epoch 2/25\n",
            "250/250 [==============================] - 101s 405ms/step - loss: 0.6477 - accuracy: 0.6200 - val_loss: 0.5886 - val_accuracy: 0.6975\n",
            "Epoch 3/25\n",
            "250/250 [==============================] - 105s 421ms/step - loss: 0.5879 - accuracy: 0.6858 - val_loss: 0.5411 - val_accuracy: 0.7370\n",
            "Epoch 4/25\n",
            "250/250 [==============================] - 109s 435ms/step - loss: 0.5579 - accuracy: 0.7154 - val_loss: 0.5355 - val_accuracy: 0.7360\n",
            "Epoch 5/25\n",
            "250/250 [==============================] - 109s 438ms/step - loss: 0.5300 - accuracy: 0.7320 - val_loss: 0.5181 - val_accuracy: 0.7510\n",
            "Epoch 6/25\n",
            "250/250 [==============================] - 106s 422ms/step - loss: 0.5023 - accuracy: 0.7519 - val_loss: 0.4854 - val_accuracy: 0.7625\n",
            "Epoch 7/25\n",
            "250/250 [==============================] - 106s 426ms/step - loss: 0.4848 - accuracy: 0.7586 - val_loss: 0.4949 - val_accuracy: 0.7605\n",
            "Epoch 8/25\n",
            "250/250 [==============================] - 110s 439ms/step - loss: 0.4570 - accuracy: 0.7822 - val_loss: 0.4863 - val_accuracy: 0.7765\n",
            "Epoch 9/25\n",
            "250/250 [==============================] - 101s 405ms/step - loss: 0.4454 - accuracy: 0.7891 - val_loss: 0.4838 - val_accuracy: 0.7760\n",
            "Epoch 10/25\n",
            "250/250 [==============================] - 110s 440ms/step - loss: 0.4339 - accuracy: 0.7983 - val_loss: 0.5151 - val_accuracy: 0.7565\n",
            "Epoch 11/25\n",
            "250/250 [==============================] - 111s 443ms/step - loss: 0.4176 - accuracy: 0.8001 - val_loss: 0.4807 - val_accuracy: 0.7835\n",
            "Epoch 12/25\n",
            "250/250 [==============================] - 108s 430ms/step - loss: 0.3925 - accuracy: 0.8176 - val_loss: 0.4511 - val_accuracy: 0.7990\n",
            "Epoch 13/25\n",
            "250/250 [==============================] - 107s 427ms/step - loss: 0.3870 - accuracy: 0.8246 - val_loss: 0.4664 - val_accuracy: 0.7855\n",
            "Epoch 14/25\n",
            "250/250 [==============================] - 99s 395ms/step - loss: 0.3617 - accuracy: 0.8347 - val_loss: 0.4627 - val_accuracy: 0.8000\n",
            "Epoch 15/25\n",
            "250/250 [==============================] - 111s 444ms/step - loss: 0.3578 - accuracy: 0.8418 - val_loss: 0.4842 - val_accuracy: 0.7805\n",
            "Epoch 16/25\n",
            "250/250 [==============================] - 111s 443ms/step - loss: 0.3476 - accuracy: 0.8490 - val_loss: 0.4479 - val_accuracy: 0.7955\n",
            "Epoch 17/25\n",
            "250/250 [==============================] - 107s 427ms/step - loss: 0.3224 - accuracy: 0.8609 - val_loss: 0.5140 - val_accuracy: 0.7665\n",
            "Epoch 18/25\n",
            "250/250 [==============================] - 101s 406ms/step - loss: 0.3048 - accuracy: 0.8664 - val_loss: 0.5023 - val_accuracy: 0.7820\n",
            "Epoch 19/25\n",
            "250/250 [==============================] - 109s 438ms/step - loss: 0.2905 - accuracy: 0.8775 - val_loss: 0.4985 - val_accuracy: 0.7920\n",
            "Epoch 20/25\n",
            "250/250 [==============================] - 110s 439ms/step - loss: 0.2784 - accuracy: 0.8810 - val_loss: 0.5113 - val_accuracy: 0.7860\n",
            "Epoch 21/25\n",
            "250/250 [==============================] - 101s 406ms/step - loss: 0.2696 - accuracy: 0.8846 - val_loss: 0.5106 - val_accuracy: 0.7800\n",
            "Epoch 22/25\n",
            "250/250 [==============================] - 108s 430ms/step - loss: 0.2582 - accuracy: 0.8935 - val_loss: 0.4893 - val_accuracy: 0.8015\n",
            "Epoch 23/25\n",
            "250/250 [==============================] - 99s 396ms/step - loss: 0.2347 - accuracy: 0.9076 - val_loss: 0.5488 - val_accuracy: 0.7935\n",
            "Epoch 24/25\n",
            "250/250 [==============================] - 110s 439ms/step - loss: 0.2261 - accuracy: 0.9064 - val_loss: 0.5215 - val_accuracy: 0.7975\n",
            "Epoch 25/25\n",
            "250/250 [==============================] - 110s 440ms/step - loss: 0.2205 - accuracy: 0.9099 - val_loss: 0.5527 - val_accuracy: 0.7935\n"
          ]
        },
        {
          "output_type": "execute_result",
          "data": {
            "text/plain": [
              "<keras.callbacks.History at 0x7fa9a31a0b50>"
            ]
          },
          "metadata": {},
          "execution_count": 16
        }
      ]
    },
    {
      "cell_type": "markdown",
      "metadata": {
        "id": "U3PZasO0006Z"
      },
      "source": [
        "## Part 4 - Make prediction"
      ]
    },
    {
      "cell_type": "code",
      "source": [
        "test_image = Image.open('/content/drive/MyDrive/single_prediction/cat_or_dog_1.jpg')\n",
        "test_image = test_image.resize((64, 64))\n",
        "test_image = np.array(test_image)/255.0\n",
        "test_image = np.expand_dims(test_image, axis=0)\n",
        "\n",
        "result = cnn.predict(test_image)\n",
        "\n",
        "training_set.class_indices\n",
        "if result[0][0] > 0.5:\n",
        "  prediction = 'Dog'\n",
        "else:\n",
        "  prediction = 'Cat'"
      ],
      "metadata": {
        "colab": {
          "base_uri": "https://localhost:8080/"
        },
        "id": "6YWHHHrZUWRV",
        "outputId": "d58c79a9-62c3-4f48-ae18-f00421f0547b"
      },
      "execution_count": 31,
      "outputs": [
        {
          "output_type": "stream",
          "name": "stdout",
          "text": [
            "1/1 [==============================] - 0s 21ms/step\n"
          ]
        }
      ]
    },
    {
      "cell_type": "code",
      "source": [
        "print(prediction)"
      ],
      "metadata": {
        "colab": {
          "base_uri": "https://localhost:8080/"
        },
        "id": "hhp69KhXU5-t",
        "outputId": "1b7449b7-137d-44d2-9d56-b5e4bb330e6c"
      },
      "execution_count": 32,
      "outputs": [
        {
          "output_type": "stream",
          "name": "stdout",
          "text": [
            "Dog\n"
          ]
        }
      ]
    },
    {
      "cell_type": "code",
      "source": [
        "test_image = Image.open('/content/drive/MyDrive/single_prediction/cat_or_dog_2.jpg')\n",
        "test_image = test_image.resize((64, 64))\n",
        "test_image = np.array(test_image)/255.0\n",
        "test_image = np.expand_dims(test_image, axis=0)\n",
        "\n",
        "result = cnn.predict(test_image)\n",
        "\n",
        "training_set.class_indices\n",
        "if result[0][0] > 0.5:\n",
        "  prediction = 'Dog'\n",
        "else:\n",
        "  prediction = 'Cat'"
      ],
      "metadata": {
        "colab": {
          "base_uri": "https://localhost:8080/"
        },
        "id": "no6ZhOgHWMZr",
        "outputId": "01ceac0d-e84b-4669-d9f8-82ce62d028c4"
      },
      "execution_count": 33,
      "outputs": [
        {
          "output_type": "stream",
          "name": "stdout",
          "text": [
            "1/1 [==============================] - 0s 30ms/step\n"
          ]
        }
      ]
    },
    {
      "cell_type": "code",
      "source": [
        "print(prediction)"
      ],
      "metadata": {
        "colab": {
          "base_uri": "https://localhost:8080/"
        },
        "id": "ZrguEp5lWUBE",
        "outputId": "025f8247-97fc-4df0-90fb-0c40a2d7c0a7"
      },
      "execution_count": 34,
      "outputs": [
        {
          "output_type": "stream",
          "name": "stdout",
          "text": [
            "Cat\n"
          ]
        }
      ]
    },
    {
      "cell_type": "markdown",
      "source": [
        "### Save CNN model for future use"
      ],
      "metadata": {
        "id": "iYzp7b4WXxJA"
      }
    },
    {
      "cell_type": "code",
      "source": [
        "import pickle"
      ],
      "metadata": {
        "id": "NjvkjB-CYHfH"
      },
      "execution_count": null,
      "outputs": []
    },
    {
      "cell_type": "code",
      "source": [
        "# Save CNN object\n",
        "with open('cnn_model.pkl', 'wb') as file:\n",
        "    pickle.dump(cnn, file)"
      ],
      "metadata": {
        "id": "P4dzQZDBXRnC"
      },
      "execution_count": 35,
      "outputs": []
    },
    {
      "cell_type": "code",
      "source": [
        "# Load CNN object\n",
        "with open('cnn_model.pkl', 'rb') as file:\n",
        "    cnn = pickle.load(file)"
      ],
      "metadata": {
        "id": "4vwbLHzlX8IL"
      },
      "execution_count": null,
      "outputs": []
    }
  ]
}